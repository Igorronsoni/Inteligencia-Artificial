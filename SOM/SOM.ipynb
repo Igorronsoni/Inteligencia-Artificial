{
 "cells": [
  {
   "cell_type": "markdown",
   "id": "4f238208",
   "metadata": {},
   "source": [
    "# Auto MPG Data Set"
   ]
  },
  {
   "cell_type": "markdown",
   "id": "2c1f6e66",
   "metadata": {},
   "source": [
    "##### Informação do conjunto de dados\n",
    "Os dados referem-se ao consumo de combustível do ciclo da cidade em milhas por galão, a ser previsto em termos de 3 atributos discretos multivalorados e 5 atributos contínuos"
   ]
  },
  {
   "cell_type": "markdown",
   "id": "641873e5",
   "metadata": {},
   "source": [
    "##### Os atributos são:\n",
    "* MPG ( Continuo )\n",
    "* Cilindradas ( discreto multivalorado )\n",
    "* Deslocamento ( Continuo )\n",
    "* Cavalos de Potência ( Continuo )\n",
    "* Peso ( Continuo )\n",
    "* Aceleração ( Continuo )\n",
    "* Ano modelo ( discreto multivalorado )\n",
    "* Origem ( discreto multivalorado )\n",
    "* Nome do Carro ( string (única para cada instância) )"
   ]
  },
  {
   "cell_type": "markdown",
   "id": "f252f696",
   "metadata": {},
   "source": [
    "## Importando as bibliotecas ##"
   ]
  },
  {
   "cell_type": "code",
   "execution_count": 1,
   "id": "9213f5be",
   "metadata": {},
   "outputs": [],
   "source": [
    "# instalar a biblioteca <minsom> *no Anaconda Prompt digite <> pip install minisom\n",
    "from minisom import MiniSom  \n",
    "import pandas as pd\n",
    "import numpy as np"
   ]
  },
  {
   "cell_type": "markdown",
   "id": "c47618d0",
   "metadata": {},
   "source": [
    "## Carregando os dados"
   ]
  },
  {
   "cell_type": "code",
   "execution_count": 2,
   "id": "6525995a",
   "metadata": {},
   "outputs": [],
   "source": [
    "base = pd.read_csv('cars.csv')"
   ]
  },
  {
   "cell_type": "code",
   "execution_count": 3,
   "id": "fc1ae907",
   "metadata": {},
   "outputs": [
    {
     "data": {
      "text/html": [
       "<div>\n",
       "<style scoped>\n",
       "    .dataframe tbody tr th:only-of-type {\n",
       "        vertical-align: middle;\n",
       "    }\n",
       "\n",
       "    .dataframe tbody tr th {\n",
       "        vertical-align: top;\n",
       "    }\n",
       "\n",
       "    .dataframe thead th {\n",
       "        text-align: right;\n",
       "    }\n",
       "</style>\n",
       "<table border=\"1\" class=\"dataframe\">\n",
       "  <thead>\n",
       "    <tr style=\"text-align: right;\">\n",
       "      <th></th>\n",
       "      <th>MPG</th>\n",
       "      <th>Cylinders</th>\n",
       "      <th>Displacement</th>\n",
       "      <th>Horsepower</th>\n",
       "      <th>Weight</th>\n",
       "      <th>Acceleration</th>\n",
       "      <th>Model Year</th>\n",
       "      <th>Origin</th>\n",
       "      <th>Car Name</th>\n",
       "    </tr>\n",
       "  </thead>\n",
       "  <tbody>\n",
       "    <tr>\n",
       "      <th>0</th>\n",
       "      <td>18.0</td>\n",
       "      <td>8</td>\n",
       "      <td>307.0</td>\n",
       "      <td>130.0</td>\n",
       "      <td>3504.0</td>\n",
       "      <td>12.0</td>\n",
       "      <td>70</td>\n",
       "      <td>1</td>\n",
       "      <td>\"chevrolet chevelle malibu\"</td>\n",
       "    </tr>\n",
       "    <tr>\n",
       "      <th>1</th>\n",
       "      <td>15.0</td>\n",
       "      <td>8</td>\n",
       "      <td>350.0</td>\n",
       "      <td>165.0</td>\n",
       "      <td>3693.0</td>\n",
       "      <td>11.5</td>\n",
       "      <td>70</td>\n",
       "      <td>1</td>\n",
       "      <td>\"buick skylark 320\"</td>\n",
       "    </tr>\n",
       "    <tr>\n",
       "      <th>2</th>\n",
       "      <td>18.0</td>\n",
       "      <td>8</td>\n",
       "      <td>318.0</td>\n",
       "      <td>150.0</td>\n",
       "      <td>3436.0</td>\n",
       "      <td>11.0</td>\n",
       "      <td>70</td>\n",
       "      <td>1</td>\n",
       "      <td>\"plymouth satellite\"</td>\n",
       "    </tr>\n",
       "    <tr>\n",
       "      <th>3</th>\n",
       "      <td>16.0</td>\n",
       "      <td>8</td>\n",
       "      <td>304.0</td>\n",
       "      <td>150.0</td>\n",
       "      <td>3433.0</td>\n",
       "      <td>12.0</td>\n",
       "      <td>70</td>\n",
       "      <td>1</td>\n",
       "      <td>\"amc rebel sst\"</td>\n",
       "    </tr>\n",
       "    <tr>\n",
       "      <th>4</th>\n",
       "      <td>17.0</td>\n",
       "      <td>8</td>\n",
       "      <td>302.0</td>\n",
       "      <td>140.0</td>\n",
       "      <td>3449.0</td>\n",
       "      <td>10.5</td>\n",
       "      <td>70</td>\n",
       "      <td>1</td>\n",
       "      <td>\"ford torino\"</td>\n",
       "    </tr>\n",
       "  </tbody>\n",
       "</table>\n",
       "</div>"
      ],
      "text/plain": [
       "    MPG   Cylinders   Displacement   Horsepower   Weight   Acceleration  \\\n",
       "0  18.0           8          307.0        130.0   3504.0           12.0   \n",
       "1  15.0           8          350.0        165.0   3693.0           11.5   \n",
       "2  18.0           8          318.0        150.0   3436.0           11.0   \n",
       "3  16.0           8          304.0        150.0   3433.0           12.0   \n",
       "4  17.0           8          302.0        140.0   3449.0           10.5   \n",
       "\n",
       "    Model Year   Origin                      Car Name  \n",
       "0           70        1   \"chevrolet chevelle malibu\"  \n",
       "1           70        1           \"buick skylark 320\"  \n",
       "2           70        1          \"plymouth satellite\"  \n",
       "3           70        1               \"amc rebel sst\"  \n",
       "4           70        1                 \"ford torino\"  "
      ]
     },
     "execution_count": 3,
     "metadata": {},
     "output_type": "execute_result"
    }
   ],
   "source": [
    "base.head()"
   ]
  },
  {
   "cell_type": "code",
   "execution_count": 4,
   "id": "952aef74",
   "metadata": {},
   "outputs": [
    {
     "data": {
      "text/html": [
       "<div>\n",
       "<style scoped>\n",
       "    .dataframe tbody tr th:only-of-type {\n",
       "        vertical-align: middle;\n",
       "    }\n",
       "\n",
       "    .dataframe tbody tr th {\n",
       "        vertical-align: top;\n",
       "    }\n",
       "\n",
       "    .dataframe thead th {\n",
       "        text-align: right;\n",
       "    }\n",
       "</style>\n",
       "<table border=\"1\" class=\"dataframe\">\n",
       "  <thead>\n",
       "    <tr style=\"text-align: right;\">\n",
       "      <th></th>\n",
       "      <th>MPG</th>\n",
       "      <th>Cylinders</th>\n",
       "      <th>Displacement</th>\n",
       "      <th>Horsepower</th>\n",
       "      <th>Weight</th>\n",
       "      <th>Acceleration</th>\n",
       "      <th>Model Year</th>\n",
       "      <th>Origin</th>\n",
       "    </tr>\n",
       "  </thead>\n",
       "  <tbody>\n",
       "    <tr>\n",
       "      <th>count</th>\n",
       "      <td>392.000000</td>\n",
       "      <td>392.000000</td>\n",
       "      <td>392.000000</td>\n",
       "      <td>392.000000</td>\n",
       "      <td>392.000000</td>\n",
       "      <td>392.000000</td>\n",
       "      <td>392.000000</td>\n",
       "      <td>392.000000</td>\n",
       "    </tr>\n",
       "    <tr>\n",
       "      <th>mean</th>\n",
       "      <td>23.445918</td>\n",
       "      <td>5.471939</td>\n",
       "      <td>194.411990</td>\n",
       "      <td>104.469388</td>\n",
       "      <td>2977.584184</td>\n",
       "      <td>15.541327</td>\n",
       "      <td>75.979592</td>\n",
       "      <td>1.576531</td>\n",
       "    </tr>\n",
       "    <tr>\n",
       "      <th>std</th>\n",
       "      <td>7.805007</td>\n",
       "      <td>1.705783</td>\n",
       "      <td>104.644004</td>\n",
       "      <td>38.491160</td>\n",
       "      <td>849.402560</td>\n",
       "      <td>2.758864</td>\n",
       "      <td>3.683737</td>\n",
       "      <td>0.805518</td>\n",
       "    </tr>\n",
       "    <tr>\n",
       "      <th>min</th>\n",
       "      <td>9.000000</td>\n",
       "      <td>3.000000</td>\n",
       "      <td>68.000000</td>\n",
       "      <td>46.000000</td>\n",
       "      <td>1613.000000</td>\n",
       "      <td>8.000000</td>\n",
       "      <td>70.000000</td>\n",
       "      <td>1.000000</td>\n",
       "    </tr>\n",
       "    <tr>\n",
       "      <th>25%</th>\n",
       "      <td>17.000000</td>\n",
       "      <td>4.000000</td>\n",
       "      <td>105.000000</td>\n",
       "      <td>75.000000</td>\n",
       "      <td>2225.250000</td>\n",
       "      <td>13.775000</td>\n",
       "      <td>73.000000</td>\n",
       "      <td>1.000000</td>\n",
       "    </tr>\n",
       "    <tr>\n",
       "      <th>50%</th>\n",
       "      <td>22.750000</td>\n",
       "      <td>4.000000</td>\n",
       "      <td>151.000000</td>\n",
       "      <td>93.500000</td>\n",
       "      <td>2803.500000</td>\n",
       "      <td>15.500000</td>\n",
       "      <td>76.000000</td>\n",
       "      <td>1.000000</td>\n",
       "    </tr>\n",
       "    <tr>\n",
       "      <th>75%</th>\n",
       "      <td>29.000000</td>\n",
       "      <td>8.000000</td>\n",
       "      <td>275.750000</td>\n",
       "      <td>126.000000</td>\n",
       "      <td>3614.750000</td>\n",
       "      <td>17.025000</td>\n",
       "      <td>79.000000</td>\n",
       "      <td>2.000000</td>\n",
       "    </tr>\n",
       "    <tr>\n",
       "      <th>max</th>\n",
       "      <td>46.600000</td>\n",
       "      <td>8.000000</td>\n",
       "      <td>455.000000</td>\n",
       "      <td>230.000000</td>\n",
       "      <td>5140.000000</td>\n",
       "      <td>24.800000</td>\n",
       "      <td>82.000000</td>\n",
       "      <td>3.000000</td>\n",
       "    </tr>\n",
       "  </tbody>\n",
       "</table>\n",
       "</div>"
      ],
      "text/plain": [
       "              MPG   Cylinders   Displacement   Horsepower       Weight  \\\n",
       "count  392.000000  392.000000     392.000000   392.000000   392.000000   \n",
       "mean    23.445918    5.471939     194.411990   104.469388  2977.584184   \n",
       "std      7.805007    1.705783     104.644004    38.491160   849.402560   \n",
       "min      9.000000    3.000000      68.000000    46.000000  1613.000000   \n",
       "25%     17.000000    4.000000     105.000000    75.000000  2225.250000   \n",
       "50%     22.750000    4.000000     151.000000    93.500000  2803.500000   \n",
       "75%     29.000000    8.000000     275.750000   126.000000  3614.750000   \n",
       "max     46.600000    8.000000     455.000000   230.000000  5140.000000   \n",
       "\n",
       "        Acceleration   Model Year      Origin  \n",
       "count     392.000000   392.000000  392.000000  \n",
       "mean       15.541327    75.979592    1.576531  \n",
       "std         2.758864     3.683737    0.805518  \n",
       "min         8.000000    70.000000    1.000000  \n",
       "25%        13.775000    73.000000    1.000000  \n",
       "50%        15.500000    76.000000    1.000000  \n",
       "75%        17.025000    79.000000    2.000000  \n",
       "max        24.800000    82.000000    3.000000  "
      ]
     },
     "execution_count": 4,
     "metadata": {},
     "output_type": "execute_result"
    }
   ],
   "source": [
    "base.describe()"
   ]
  },
  {
   "cell_type": "markdown",
   "id": "49ea8911",
   "metadata": {},
   "source": [
    "### Camada de entrada e rótulos para validação"
   ]
  },
  {
   "cell_type": "code",
   "execution_count": 5,
   "id": "0e81f076",
   "metadata": {},
   "outputs": [],
   "source": [
    "X = base.iloc[:,0:8].values\n",
    "y = base.iloc[:,7].values"
   ]
  },
  {
   "cell_type": "markdown",
   "id": "cc03a9e9",
   "metadata": {},
   "source": [
    "### Normalização dos dados"
   ]
  },
  {
   "cell_type": "code",
   "execution_count": 6,
   "id": "747c2529",
   "metadata": {},
   "outputs": [],
   "source": [
    "from sklearn.preprocessing import MinMaxScaler\n",
    "normalizador = MinMaxScaler(feature_range = (0,1))\n",
    "X = normalizador.fit_transform(X)"
   ]
  },
  {
   "cell_type": "markdown",
   "id": "4855bf68",
   "metadata": {},
   "source": [
    "### Construção do SOM"
   ]
  },
  {
   "cell_type": "code",
   "execution_count": 7,
   "id": "1779e84f",
   "metadata": {},
   "outputs": [],
   "source": [
    "som = MiniSom(x = 10, y = 10, input_len = 8, sigma = 1.0, learning_rate = 0.9, random_seed = 2)\n",
    "som.random_weights_init(X)\n",
    "som.train_random(data = X, num_iteration = 100000)"
   ]
  },
  {
   "cell_type": "markdown",
   "id": "bc94bfc9",
   "metadata": {},
   "source": [
    "#### Topologia da Rede"
   ]
  },
  {
   "cell_type": "code",
   "execution_count": 8,
   "id": "a464fc58",
   "metadata": {},
   "outputs": [
    {
     "data": {
      "text/plain": [
       "array([[0.76611153, 0.70173895, 0.41847608, 0.58634717, 0.65314423,\n",
       "        0.74848533, 0.64486812, 0.53968786, 0.6100139 , 0.70834213],\n",
       "       [0.6733723 , 0.58758775, 0.12257828, 0.22512154, 0.55061393,\n",
       "        0.68947612, 0.66216738, 0.52995169, 0.64206944, 0.67928085],\n",
       "       [0.51454343, 0.54290166, 0.3758515 , 0.39110925, 0.56686996,\n",
       "        0.71840709, 0.59079091, 0.55189903, 0.56297236, 0.69547089],\n",
       "       [0.65104064, 0.55599497, 0.2309507 , 0.16049523, 0.28961833,\n",
       "        0.57287869, 0.79448844, 0.79731117, 0.66435491, 0.56009605],\n",
       "       [0.70727351, 0.58201059, 0.39392635, 0.38088932, 0.65549797,\n",
       "        0.66909369, 0.644099  , 0.75696149, 0.77358908, 1.32676988],\n",
       "       [0.72176999, 0.71450044, 0.62857534, 0.46118539, 0.48550951,\n",
       "        0.62925875, 1.0473677 , 1.21342705, 1.22549315, 1.25213036],\n",
       "       [0.67845035, 0.65507318, 0.81528469, 0.88540945, 0.95617024,\n",
       "        1.08970385, 1.42954737, 1.52890232, 1.37969046, 1.33027984],\n",
       "       [0.80327621, 0.98160686, 0.87736379, 0.80398396, 1.02577699,\n",
       "        1.40492719, 1.37195391, 1.44425014, 1.32969976, 1.5072867 ],\n",
       "       [0.93592075, 0.92040866, 0.87104172, 1.03570681, 1.1050527 ,\n",
       "        1.5786678 , 1.5036791 , 1.64991004, 1.48121917, 1.64465519],\n",
       "       [0.87699217, 0.90936251, 0.93074137, 1.00426209, 0.91662477,\n",
       "        1.5303084 , 1.77119248, 1.78683387, 1.66231557, 1.71284902]])"
      ]
     },
     "execution_count": 8,
     "metadata": {},
     "output_type": "execute_result"
    }
   ],
   "source": [
    "som._activation_map"
   ]
  },
  {
   "cell_type": "markdown",
   "id": "7aecfb3c",
   "metadata": {},
   "source": [
    "##### Pesos do SOM"
   ]
  },
  {
   "cell_type": "code",
   "execution_count": 9,
   "id": "bfce5050",
   "metadata": {},
   "outputs": [
    {
     "data": {
      "text/plain": [
       "array([[[3.29172097e-01, 2.00000000e-01, 1.60887690e-01, 1.92002960e-01,\n",
       "         2.01860556e-01, 6.79481881e-01, 1.46764083e-01, 3.85644092e-11],\n",
       "        [4.19404727e-01, 2.00000000e-01, 1.41134808e-01, 2.16579710e-01,\n",
       "         1.82731645e-01, 4.56854426e-01, 1.24443929e-01, 3.59849153e-05],\n",
       "        [4.32384944e-01, 2.00000066e-01, 1.09556061e-01, 1.95565928e-01,\n",
       "         1.99225838e-01, 4.78643316e-01, 2.59201280e-01, 3.06194089e-01],\n",
       "        [3.85909023e-01, 2.00000000e-01, 1.16983595e-01, 2.09042951e-01,\n",
       "         2.82086566e-01, 5.93063355e-01, 9.23199989e-02, 4.99999998e-01],\n",
       "        [4.18907434e-01, 2.00000000e-01, 7.44680083e-02, 3.64491785e-02,\n",
       "         1.30317023e-01, 8.07275544e-01, 1.17716487e-01, 5.02342721e-01],\n",
       "        [6.21727709e-01, 1.99999999e-01, 1.37700399e-02, 1.17000249e-01,\n",
       "         3.34960669e-02, 6.23439709e-01, 8.70559057e-02, 9.89322921e-01],\n",
       "        [5.98274032e-01, 2.00000000e-01, 2.16150835e-02, 1.01966203e-01,\n",
       "         7.69662225e-02, 6.91819567e-01, 3.37954116e-01, 9.99999976e-01],\n",
       "        [6.15132017e-01, 1.99999999e-01, 4.96475434e-02, 1.18183443e-01,\n",
       "         1.00906899e-01, 5.44366866e-01, 5.07628778e-01, 1.00000000e+00],\n",
       "        [7.37409521e-01, 2.00000000e-01, 4.29661063e-02, 1.05536194e-01,\n",
       "         1.22714545e-01, 6.36618971e-01, 6.87900210e-01, 1.00000000e+00],\n",
       "        [9.55678347e-01, 2.00000000e-01, 5.34679179e-02, 1.08502365e-01,\n",
       "         9.64556943e-02, 4.52583605e-01, 8.34542375e-01, 1.00000000e+00]],\n",
       "\n",
       "       [[4.92166827e-01, 2.00000000e-01, 6.27681268e-02, 6.05566803e-02,\n",
       "         1.37738949e-01, 8.07224639e-01, 4.82553599e-01, 2.33367556e-08],\n",
       "        [4.33399162e-01, 2.00009201e-01, 1.44069954e-01, 1.81128299e-01,\n",
       "         2.38687189e-01, 5.12929157e-01, 3.71981716e-01, 3.44714109e-03],\n",
       "        [5.33622713e-01, 2.00978997e-01, 7.50653270e-02, 1.54242064e-01,\n",
       "         9.01295858e-02, 3.28465061e-01, 5.24195342e-01, 4.92760883e-01],\n",
       "        [4.60082509e-01, 2.00000861e-01, 6.70048531e-02, 1.63810152e-01,\n",
       "         1.50546074e-01, 4.55404542e-01, 3.91029538e-01, 5.00000003e-01],\n",
       "        [4.76792442e-01, 1.99997789e-01, 9.19264855e-02, 2.36227133e-01,\n",
       "         1.74211286e-01, 3.63463455e-01, 4.59953582e-02, 5.06477500e-01],\n",
       "        [4.39679351e-01, 1.99773939e-01, 9.69361452e-02, 2.47664006e-01,\n",
       "         1.84824147e-01, 4.32263417e-01, 1.31440233e-01, 9.96182892e-01],\n",
       "        [3.38837096e-01, 1.99968191e-01, 9.22967217e-02, 2.43447731e-01,\n",
       "         2.06505721e-01, 5.76190626e-01, 2.71448274e-01, 9.99999980e-01],\n",
       "        [5.11262348e-01, 1.98712442e-01, 7.53080332e-02, 1.58615677e-01,\n",
       "         1.64445749e-01, 5.12712911e-01, 4.87347734e-01, 1.00000000e+00],\n",
       "        [6.31170260e-01, 1.99996483e-01, 8.63013446e-02, 1.30011536e-01,\n",
       "         1.58178586e-01, 5.46369794e-01, 9.30651944e-01, 1.00000000e+00],\n",
       "        [7.90299402e-01, 2.00000000e-01, 3.86867610e-02, 7.71086549e-02,\n",
       "         7.26815662e-02, 5.81853953e-01, 8.92474741e-01, 1.00000000e+00]],\n",
       "\n",
       "       [[6.12793300e-01, 2.00000001e-01, 8.50886705e-02, 1.72847328e-01,\n",
       "         1.48242152e-01, 4.47375340e-01, 6.20336915e-01, 6.48362265e-09],\n",
       "        [4.35465493e-01, 2.01131769e-01, 1.64551786e-01, 2.51695872e-01,\n",
       "         2.43856371e-01, 4.38818173e-01, 5.62077281e-01, 4.67755709e-03],\n",
       "        [3.19420306e-01, 3.06312463e-01, 1.50636033e-01, 3.26295083e-01,\n",
       "         3.20324787e-01, 4.08516812e-01, 6.34334780e-01, 4.93525743e-01],\n",
       "        [3.52271160e-01, 2.00515512e-01, 1.38414282e-01, 2.69266684e-01,\n",
       "         3.78090148e-01, 4.50782915e-01, 4.34872027e-01, 4.99999999e-01],\n",
       "        [2.60431019e-01, 1.99146946e-01, 1.34564227e-01, 3.47910407e-01,\n",
       "         3.57011526e-01, 4.07886556e-01, 2.04509864e-01, 5.02381364e-01],\n",
       "        [2.77560887e-01, 2.46218554e-02, 1.82618525e-02, 2.68601510e-01,\n",
       "         1.95109297e-01, 3.39428008e-01, 1.86203490e-01, 9.87879513e-01],\n",
       "        [4.09135708e-01, 2.00432576e-01, 1.35429287e-01, 2.71706351e-01,\n",
       "         2.63169701e-01, 4.42179690e-01, 3.86799999e-01, 9.99999912e-01],\n",
       "        [4.43958696e-01, 1.55408166e-01, 1.20248643e-01, 2.84997451e-01,\n",
       "         2.46049469e-01, 3.69907098e-01, 6.65027247e-01, 9.99999998e-01],\n",
       "        [6.83237205e-01, 1.97733756e-01, 5.81048526e-02, 1.12989358e-01,\n",
       "         1.11030835e-01, 4.57388281e-01, 7.69708978e-01, 1.00000000e+00],\n",
       "        [7.65513658e-01, 2.00000008e-01, 6.26431530e-02, 1.17992529e-01,\n",
       "         1.09053047e-01, 4.60890788e-01, 9.95755769e-01, 9.99999989e-01]],\n",
       "\n",
       "       [[7.40360689e-01, 2.00000000e-01, 6.71498074e-02, 1.04983880e-01,\n",
       "         1.07819719e-01, 4.86164678e-01, 9.23203431e-01, 7.78888557e-11],\n",
       "        [6.48270787e-01, 2.00012277e-01, 8.66955219e-02, 1.31833324e-01,\n",
       "         1.43151887e-01, 4.21407954e-01, 7.83337963e-01, 5.36594310e-05],\n",
       "        [5.57662827e-01, 2.18313626e-01, 9.30590521e-02, 1.86575612e-01,\n",
       "         1.65390464e-01, 3.85738079e-01, 6.81297716e-01, 3.07722254e-01],\n",
       "        [5.92655886e-01, 2.00015702e-01, 5.74598270e-02, 1.26149483e-01,\n",
       "         1.04875789e-01, 4.16907053e-01, 7.19106806e-01, 4.99999985e-01],\n",
       "        [6.86599787e-01, 1.99897585e-01, 4.35565239e-02, 9.00435998e-02,\n",
       "         9.88220605e-02, 6.14709083e-01, 5.84000271e-01, 5.00256218e-01],\n",
       "        [2.98109202e-01, 2.18239452e-01, 1.36482596e-01, 2.29881548e-01,\n",
       "         4.33587096e-01, 7.59235329e-01, 5.05702591e-01, 5.73621952e-01],\n",
       "        [2.83915258e-01, 5.92607957e-01, 2.25508262e-01, 3.68823614e-01,\n",
       "         3.55743414e-01, 3.91396911e-01, 3.92415172e-01, 9.99249444e-01],\n",
       "        [5.16558194e-01, 5.73475210e-01, 2.30880883e-01, 4.19649676e-01,\n",
       "         3.62964750e-01, 2.75841560e-01, 8.63273506e-01, 9.97536631e-01],\n",
       "        [6.24390328e-01, 2.01229726e-01, 1.76265191e-01, 2.52383624e-01,\n",
       "         2.81361909e-01, 3.85545709e-01, 9.45077091e-01, 9.99940202e-01],\n",
       "        [6.36429656e-01, 3.14218962e-01, 1.90584492e-01, 2.06465024e-01,\n",
       "         2.44131477e-01, 4.67560041e-01, 9.27222980e-01, 8.57226998e-01]],\n",
       "\n",
       "       [[4.71037524e-01, 2.00000000e-01, 1.94289820e-01, 2.29231821e-01,\n",
       "         3.32699421e-01, 5.06507416e-01, 9.79976769e-01, 5.67440337e-17],\n",
       "        [5.13198348e-01, 2.00000000e-01, 1.67964540e-01, 2.07053714e-01,\n",
       "         2.96490197e-01, 4.29184898e-01, 7.71271351e-01, 1.60278391e-08],\n",
       "        [5.74401641e-01, 2.00000368e-01, 1.54980855e-01, 2.11984306e-01,\n",
       "         2.45740260e-01, 4.40152685e-01, 7.81997244e-01, 2.17517746e-01],\n",
       "        [7.63616409e-01, 2.00000002e-01, 9.22750586e-02, 1.70269171e-01,\n",
       "         1.57368029e-01, 4.16349709e-01, 8.76641888e-01, 4.99988702e-01],\n",
       "        [9.05326847e-01, 2.00009415e-01, 6.32083917e-02, 2.09936804e-02,\n",
       "         1.49041295e-01, 8.55327690e-01, 7.93396100e-01, 4.99999994e-01],\n",
       "        [5.25792278e-01, 2.00285392e-01, 1.94794452e-01, 1.28197845e-01,\n",
       "         4.55615260e-01, 8.86765896e-01, 8.06119726e-01, 5.00021367e-01],\n",
       "        [4.27513232e-01, 4.04451643e-01, 2.87529603e-01, 1.82501520e-01,\n",
       "         5.30564575e-01, 7.05424576e-01, 7.35934763e-01, 5.20917172e-01],\n",
       "        [2.08849070e-01, 6.01855375e-01, 2.55040079e-01, 4.20051115e-01,\n",
       "         5.50186027e-01, 4.55998148e-01, 5.78745670e-01, 5.05795486e-01],\n",
       "        [3.75791286e-01, 6.86946700e-01, 4.04232319e-01, 3.85078327e-01,\n",
       "         4.71145792e-01, 4.15440203e-01, 7.51838907e-01, 3.92754231e-01],\n",
       "        [3.96927900e-01, 9.99692108e-01, 7.26370028e-01, 3.99447536e-01,\n",
       "         6.34955571e-01, 5.86061843e-01, 7.93216731e-01, 3.84864710e-04]],\n",
       "\n",
       "       [[5.13805359e-01, 2.00000002e-01, 1.28600926e-01, 1.89065134e-01,\n",
       "         2.74289043e-01, 6.73061879e-01, 9.74049039e-01, 1.11969277e-20],\n",
       "        [4.27276471e-01, 2.00013788e-01, 2.03307720e-01, 2.34894995e-01,\n",
       "         3.78043521e-01, 6.78165592e-01, 8.34564820e-01, 2.63277680e-10],\n",
       "        [3.79794455e-01, 2.01077468e-01, 2.19447857e-01, 2.79667076e-01,\n",
       "         3.34691663e-01, 5.37739986e-01, 6.76793381e-01, 1.42159785e-04],\n",
       "        [4.62151562e-01, 3.63825014e-01, 2.45025550e-01, 2.33570023e-01,\n",
       "         2.91556924e-01, 4.67474545e-01, 5.76484481e-01, 1.79969333e-01],\n",
       "        [5.83948786e-01, 4.37950065e-01, 2.16764323e-01, 1.51105798e-01,\n",
       "         2.71323482e-01, 6.31897886e-01, 4.73176366e-01, 2.72627300e-01],\n",
       "        [6.45222717e-01, 4.92588093e-01, 1.70249223e-01, 1.39551903e-01,\n",
       "         4.11616705e-01, 7.05273115e-01, 8.73500010e-01, 4.99501849e-01],\n",
       "        [2.76735915e-01, 8.38386302e-01, 4.86799342e-01, 3.94729732e-01,\n",
       "         6.02363167e-01, 4.69902189e-01, 4.51520085e-01, 1.50818729e-01],\n",
       "        [2.00570004e-01, 9.94887818e-01, 5.66541030e-01, 4.29992194e-01,\n",
       "         4.78161240e-01, 2.80554797e-01, 4.42030497e-01, 6.37097937e-03],\n",
       "        [2.73069150e-01, 9.99984088e-01, 5.78740176e-01, 4.63899219e-01,\n",
       "         5.34169987e-01, 3.23055223e-01, 6.72808063e-01, 1.98895383e-05],\n",
       "        [2.62023755e-01, 9.99999999e-01, 5.06870305e-01, 3.30175859e-01,\n",
       "         6.43955320e-01, 6.82820373e-01, 6.34024830e-01, 6.42754571e-10]],\n",
       "\n",
       "       [[6.61441717e-01, 2.03805143e-01, 1.72761444e-01, 2.07755756e-01,\n",
       "         2.14901773e-01, 2.93462463e-01, 9.82239921e-01, 6.29820378e-26],\n",
       "        [4.53575115e-01, 3.54534768e-01, 2.69584070e-01, 2.66553765e-01,\n",
       "         3.44278488e-01, 4.51080260e-01, 7.71026802e-01, 1.34391141e-12],\n",
       "        [3.70466393e-01, 5.90869820e-01, 3.83710754e-01, 2.24029006e-01,\n",
       "         4.08113775e-01, 5.61541003e-01, 4.93805606e-01, 4.06015261e-10],\n",
       "        [2.70508368e-01, 5.99970589e-01, 4.13969183e-01, 2.78267708e-01,\n",
       "         3.72176538e-01, 4.76041658e-01, 2.77128804e-01, 1.38140018e-08],\n",
       "        [3.22896164e-01, 6.00069066e-01, 3.41353501e-01, 2.44860487e-01,\n",
       "         3.12438805e-01, 4.42122566e-01, 6.09672370e-03, 2.50799449e-05],\n",
       "        [2.67850472e-01, 8.15978944e-01, 4.84771234e-01, 3.98655933e-01,\n",
       "         5.14328051e-01, 3.93521860e-01, 1.96026870e-01, 6.18098683e-02],\n",
       "        [1.41278447e-01, 9.99997203e-01, 6.41075098e-01, 5.57484850e-01,\n",
       "         7.14882735e-01, 3.59214940e-01, 2.01871113e-01, 3.05844914e-06],\n",
       "        [9.95620708e-02, 9.99999998e-01, 7.28476682e-01, 6.80518705e-01,\n",
       "         7.69646030e-01, 2.88718179e-01, 2.53228232e-01, 2.31749432e-09],\n",
       "        [1.56196607e-01, 1.00000000e+00, 6.65129933e-01, 5.41476231e-01,\n",
       "         7.02789601e-01, 2.86348503e-01, 5.01818524e-01, 1.78445072e-11],\n",
       "        [2.25625725e-01, 1.00000000e+00, 6.47385716e-01, 4.99318480e-01,\n",
       "         6.74512824e-01, 3.72311156e-01, 6.99693767e-01, 1.78339650e-17]],\n",
       "\n",
       "       [[4.13645950e-01, 5.95739786e-01, 2.71130974e-01, 3.51592827e-01,\n",
       "         3.08492336e-01, 2.61424396e-01, 8.87120190e-01, 1.30221724e-35],\n",
       "        [2.46606285e-01, 5.99802782e-01, 4.20455646e-01, 5.88956568e-01,\n",
       "         5.08742739e-01, 3.42206037e-01, 6.58065954e-01, 5.17827981e-25],\n",
       "        [3.24674274e-01, 5.99999995e-01, 4.47366058e-01, 3.23035301e-01,\n",
       "         4.75355443e-01, 4.20684295e-01, 4.92116659e-01, 3.43835378e-20],\n",
       "        [2.91295974e-01, 6.00000013e-01, 2.59063204e-01, 3.13403906e-01,\n",
       "         3.07752452e-01, 3.79122182e-01, 3.02567221e-01, 8.54627389e-17],\n",
       "        [2.32678716e-01, 6.02429046e-01, 4.47560534e-01, 2.92565452e-01,\n",
       "         4.75578199e-01, 4.17217263e-01, 8.30386400e-02, 1.06345040e-11],\n",
       "        [2.27367851e-01, 9.94383942e-01, 6.31763862e-01, 5.36107358e-01,\n",
       "         5.22375189e-01, 1.86230303e-01, 5.48950865e-03, 1.42157299e-09],\n",
       "        [1.64517615e-01, 9.99999996e-01, 6.36189299e-01, 5.65797464e-01,\n",
       "         5.86576737e-01, 2.34843438e-01, 2.34515675e-01, 6.63153560e-12],\n",
       "        [1.25522823e-01, 1.00000000e+00, 7.26160501e-01, 5.42992646e-01,\n",
       "         6.86702445e-01, 2.96010465e-01, 2.52719863e-01, 8.48485464e-17],\n",
       "        [1.57542703e-01, 1.00000000e+00, 6.14958554e-01, 4.45056617e-01,\n",
       "         7.00554576e-01, 3.76198010e-01, 5.26610441e-01, 6.20836672e-21],\n",
       "        [1.81376255e-01, 1.00000000e+00, 7.90409641e-01, 7.12560245e-01,\n",
       "         7.47176826e-01, 2.18815526e-01, 5.62956332e-01, 6.86657664e-27]],\n",
       "\n",
       "       [[7.09045400e-01, 5.99999969e-01, 4.82702796e-01, 2.33694099e-01,\n",
       "         4.00896435e-01, 5.18024692e-01, 9.73916470e-01, 3.76354231e-47],\n",
       "        [2.69429030e-01, 6.00000000e-01, 4.62120595e-01, 3.72060379e-01,\n",
       "         5.01432626e-01, 4.40904578e-01, 6.78785438e-01, 8.10457982e-40],\n",
       "        [2.93871789e-01, 6.00000000e-01, 3.96056890e-01, 2.36451931e-01,\n",
       "         4.45149177e-01, 5.87608851e-01, 7.26601963e-01, 2.01329249e-34],\n",
       "        [1.85435015e-01, 6.00000015e-01, 4.65363304e-01, 3.26731087e-01,\n",
       "         6.12915813e-01, 6.54011768e-01, 4.25547980e-01, 7.35302837e-27],\n",
       "        [2.02483085e-01, 6.95255387e-01, 5.36178289e-01, 3.85214418e-01,\n",
       "         5.38401650e-01, 4.11566500e-01, 1.82460881e-01, 1.59937510e-17],\n",
       "        [1.58867110e-01, 9.99954283e-01, 8.35177473e-01, 6.30333134e-01,\n",
       "         5.96914036e-01, 9.45577395e-02, 2.70601188e-03, 5.71845613e-20],\n",
       "        [8.25129676e-02, 1.00000000e+00, 7.46197461e-01, 7.14841371e-01,\n",
       "         6.05601252e-01, 1.76378876e-01, 2.39069773e-01, 5.74704570e-21],\n",
       "        [8.11700859e-02, 1.00000000e+00, 8.54909516e-01, 6.42121143e-01,\n",
       "         9.16173934e-01, 2.72268147e-01, 2.51331935e-01, 7.53191395e-27],\n",
       "        [1.43329382e-01, 1.00000000e+00, 7.10791504e-01, 5.60773451e-01,\n",
       "         8.41745194e-01, 3.58658717e-01, 3.90483530e-01, 1.00059886e-34],\n",
       "        [1.15328746e-01, 1.00000000e+00, 8.56537527e-01, 7.54912446e-01,\n",
       "         7.96504942e-01, 2.55013382e-01, 1.58873016e-01, 1.36867374e-40]],\n",
       "\n",
       "       [[4.19845350e-01, 6.00000000e-01, 2.99978787e-01, 3.46340591e-01,\n",
       "         3.80902426e-01, 4.96698346e-01, 9.96942236e-01, 2.49515225e-66],\n",
       "        [3.01701892e-01, 6.00000000e-01, 3.79089779e-01, 2.62752171e-01,\n",
       "         4.64912875e-01, 5.12313923e-01, 9.13908475e-01, 1.72871645e-57],\n",
       "        [2.76860072e-01, 6.00000000e-01, 4.12623038e-01, 3.14751401e-01,\n",
       "         5.38768070e-01, 6.14439124e-01, 6.64705657e-01, 1.26292274e-50],\n",
       "        [2.01058968e-01, 6.00000007e-01, 4.69281655e-01, 1.62279330e-01,\n",
       "         5.22428413e-01, 7.52316234e-01, 4.59835121e-01, 1.23882970e-40],\n",
       "        [2.47561201e-01, 6.05569398e-01, 4.30522305e-01, 2.85469270e-01,\n",
       "         4.94291358e-01, 4.95532862e-01, 4.01934303e-01, 3.32528160e-35],\n",
       "        [1.22418593e-01, 9.96127016e-01, 7.26752121e-01, 6.10600004e-01,\n",
       "         7.65327819e-01, 2.90345581e-01, 1.21766531e-01, 5.69026112e-33],\n",
       "        [1.40510091e-01, 9.99999998e-01, 9.66609412e-01, 9.05209261e-01,\n",
       "         6.77870627e-01, 9.30345941e-02, 4.29994503e-03, 2.27731131e-35],\n",
       "        [8.17480516e-02, 1.00000000e+00, 9.48041732e-01, 9.10386700e-01,\n",
       "         8.73219636e-01, 1.75221443e-01, 2.07278667e-01, 9.77347359e-41],\n",
       "        [3.78629227e-02, 1.00000000e+00, 6.44778836e-01, 8.51799249e-01,\n",
       "         8.13565505e-01, 4.10494321e-01, 1.34472237e-02, 1.14378540e-49],\n",
       "        [1.01058663e-01, 1.00000000e+00, 8.47105935e-01, 6.98157297e-01,\n",
       "         9.38087898e-01, 2.35144880e-01, 8.38875116e-02, 9.76684440e-57]]])"
      ]
     },
     "execution_count": 9,
     "metadata": {},
     "output_type": "execute_result"
    }
   ],
   "source": [
    "som._weights"
   ]
  },
  {
   "cell_type": "markdown",
   "id": "7779cfcd",
   "metadata": {},
   "source": [
    "## Vizualização de dados"
   ]
  },
  {
   "cell_type": "code",
   "execution_count": 10,
   "id": "ce45dce5",
   "metadata": {},
   "outputs": [
    {
     "data": {
      "text/plain": [
       "array([[ 5.,  6.,  0.,  5.,  6.,  2.,  4.,  7.,  3.,  2.],\n",
       "       [ 2.,  6.,  5., 12.,  4.,  8.,  2.,  3., 10.,  6.],\n",
       "       [ 5.,  5.,  3.,  5.,  4.,  2.,  4.,  6.,  4.,  5.],\n",
       "       [ 5.,  5.,  0.,  3.,  1.,  1.,  3.,  3.,  5.,  0.],\n",
       "       [10.,  5.,  0.,  6.,  4.,  3.,  1.,  3.,  0.,  2.],\n",
       "       [ 6.,  2.,  4.,  0.,  0.,  2.,  0.,  2.,  7.,  2.],\n",
       "       [ 3.,  0.,  2.,  8.,  5.,  0.,  8.,  4.,  9.,  7.],\n",
       "       [ 3.,  1.,  4.,  2.,  7.,  4.,  5.,  2.,  3.,  5.],\n",
       "       [ 1.,  5.,  7.,  6.,  0.,  5.,  2.,  3.,  6.,  3.],\n",
       "       [ 2.,  3.,  6.,  3.,  8.,  7.,  5.,  5.,  4.,  3.]])"
      ]
     },
     "execution_count": 10,
     "metadata": {},
     "output_type": "execute_result"
    }
   ],
   "source": [
    "q = som.activation_response(X)\n",
    "q"
   ]
  },
  {
   "cell_type": "markdown",
   "id": "8c76eefc",
   "metadata": {},
   "source": [
    "### MID - distância média entre neurônios"
   ]
  },
  {
   "cell_type": "code",
   "execution_count": 11,
   "id": "67cd7cdc",
   "metadata": {},
   "outputs": [
    {
     "data": {
      "text/plain": [
       "<matplotlib.colorbar.Colorbar at 0x20e3f4d2760>"
      ]
     },
     "execution_count": 11,
     "metadata": {},
     "output_type": "execute_result"
    },
    {
     "data": {
      "image/png": "[encoded data removed]",
      "text/plain": [
       "<Figure size 432x288 with 2 Axes>"
      ]
     },
     "metadata": {
      "needs_background": "light"
     },
     "output_type": "display_data"
    }
   ],
   "source": [
    "from matplotlib.pylab import pcolor, colorbar, plot, plt\n",
    "pcolor(som.distance_map().T)\n",
    "# MID - mean inter neuron distance\n",
    "colorbar()"
   ]
  },
  {
   "cell_type": "markdown",
   "id": "12962409",
   "metadata": {},
   "source": [
    "### Regiões de ativação (classe)"
   ]
  },
  {
   "cell_type": "code",
   "execution_count": 12,
   "id": "b5b5a163",
   "metadata": {},
   "outputs": [],
   "source": [
    "markers = ['o', 's', 'D']\n",
    "color = ['r', 'g', 'b']\n",
    "y[y == 1] = 0\n",
    "y[y == 2] = 1\n",
    "y[y == 3] = 2"
   ]
  },
  {
   "cell_type": "code",
   "execution_count": 13,
   "id": "f23dcbdf",
   "metadata": {},
   "outputs": [
    {
     "data": {
      "image/png": "[encoded data removed]",
      "text/plain": [
       "<Figure size 432x288 with 1 Axes>"
      ]
     },
     "metadata": {
      "needs_background": "light"
     },
     "output_type": "display_data"
    }
   ],
   "source": [
    "for i, x in enumerate(X):\n",
    "    w = som.winner(x)\n",
    "    plot(w[0] + 0.5, w[1] + 0.5, markers[y[i]],\n",
    "         markerfacecolor = 'None', markersize = 10,\n",
    "         markeredgecolor = color[y[i]], markeredgewidth = 2)"
   ]
  },
  {
   "cell_type": "code",
   "execution_count": 14,
   "id": "517f5f2f",
   "metadata": {},
   "outputs": [],
   "source": [
    "w = som.winner(X[148])"
   ]
  },
  {
   "cell_type": "code",
   "execution_count": 15,
   "id": "0da4d14c",
   "metadata": {},
   "outputs": [
    {
     "data": {
      "image/png": "[encoded data removed]",
      "text/plain": [
       "<Figure size 576x360 with 2 Axes>"
      ]
     },
     "metadata": {
      "needs_background": "light"
     },
     "output_type": "display_data"
    }
   ],
   "source": [
    "import matplotlib.patches as mpatches\n",
    "red_patch = mpatches.Patch(color='red', label='Class_3')\n",
    "blue_patch = mpatches.Patch(color='blue', label='Class_1')\n",
    "green_patch = mpatches.Patch(color='green', label='Class_2')\n",
    "\n",
    "\n",
    "plt.figure(figsize=(8,5))\n",
    "plt.title('SOM')\n",
    "plt.pcolor(som.distance_map().T) # distance map as background\n",
    "plt.colorbar()\n",
    "\n",
    "for cnt,xx in enumerate(X):\n",
    "    w = som.winner(xx) # getting the winner\n",
    "    plt.plot(w[0]+.5,w[1]+.5,markers[y[cnt]],markerfacecolor='None',\n",
    "             markeredgecolor=color[y[cnt]],markersize=12,markeredgewidth=2)\n",
    "    \n",
    "plt.axis([0,som.get_weights().shape[0],0,som.get_weights().shape[1]])\n",
    "plt.legend(handles=[red_patch, blue_patch,green_patch])\n",
    "plt.show() # show the figure"
   ]
  }
 ],
 "metadata": {
  "kernelspec": {
   "display_name": "Python 3",
   "language": "python",
   "name": "python3"
  },
  "language_info": {
   "codemirror_mode": {
    "name": "ipython",
    "version": 3
   },
   "file_extension": ".py",
   "mimetype": "text/x-python",
   "name": "python",
   "nbconvert_exporter": "python",
   "pygments_lexer": "ipython3",
   "version": "3.8.0"
  }
 },
 "nbformat": 4,
 "nbformat_minor": 5
}
